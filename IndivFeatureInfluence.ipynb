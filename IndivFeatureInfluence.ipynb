{
  "nbformat": 4,
  "nbformat_minor": 0,
  "metadata": {
    "colab": {
      "provenance": []
    },
    "kernelspec": {
      "name": "python3",
      "display_name": "Python 3"
    },
    "language_info": {
      "name": "python"
    }
  },
  "cells": [
    {
      "cell_type": "code",
      "execution_count": 25,
      "metadata": {
        "id": "YCjAUn-Ogwtv"
      },
      "outputs": [],
      "source": [
        "# load libraries\n",
        "import pandas as pd\n",
        "import numpy as np\n",
        "from sklearn import linear_model\n",
        "from sklearn.model_selection import KFold, train_test_split, GridSearchCV\n",
        "from scipy import stats\n",
        "\n",
        "import warnings\n",
        "import os\n",
        "\n",
        "# suppress all warnings\n",
        "warnings.filterwarnings('ignore')\n",
        "\n",
        "# set seed\n",
        "np.random.seed(42)"
      ]
    },
    {
      "cell_type": "markdown",
      "source": [
        "Define functions for running models"
      ],
      "metadata": {
        "id": "Xr2Vtbn6sbPB"
      }
    },
    {
      "cell_type": "code",
      "source": [
        "# function to run linear model\n",
        "def runLM(X, y, path, col):\n",
        "\n",
        "  # create dataframe to store results\n",
        "  model_df = pd.DataFrame(columns=['Model', 'Fold', 'Spearman', 'Pearson'])\n",
        "\n",
        "  # initialize the outer folds (5 folds, 80% train, 20% test)\n",
        "  outer_cv = KFold(n_splits=5, shuffle=True, random_state=42)\n",
        "\n",
        "  # initialize variables to store best model correlation and features\n",
        "  best_corr = 0\n",
        "  best_fold = 0\n",
        "  best_feat = None\n",
        "\n",
        "  # loop through each of the outer five folds\n",
        "  fold = 1\n",
        "  for train_index, test_index in outer_cv.split(X):\n",
        "\n",
        "    # split train and test\n",
        "    X_train, X_test = X.iloc[train_index], X.iloc[test_index]\n",
        "    y_train, y_test = y.iloc[train_index], y.iloc[test_index]\n",
        "\n",
        "    # initialize linear regression model\n",
        "    reg = linear_model.LinearRegression()\n",
        "\n",
        "    # fit model\n",
        "    reg.fit(X_train, y_train)\n",
        "\n",
        "    # get predicted values for test data\n",
        "    y_pred = reg.predict(X_test)\n",
        "\n",
        "    # compute correlations\n",
        "    s_cor = stats.spearmanr(y_pred, y_test)\n",
        "    p_cor = stats.pearsonr(y_pred, y_test)\n",
        "\n",
        "    # save model correlation and features (if better than previous)\n",
        "    if abs(s_cor[0]) > best_corr:\n",
        "            best_corr = s_cor[0]\n",
        "            best_fold = fold\n",
        "            best_feat = reg.coef_\n",
        "\n",
        "    # save results to dataframe\n",
        "    new_row = pd.DataFrame({'Model': ['Linear'], 'Fold': [fold], 'Spearman': [s_cor[0]], 'Pearson': [p_cor[0]]})\n",
        "    model_df = pd.concat([model_df, new_row],ignore_index = True)\n",
        "\n",
        "    fold += 1\n",
        "\n",
        "  # print best results\n",
        "  print(\"------ Best correlation:\", best_corr, \"from Fold\", best_fold)\n",
        "\n",
        "  # create feature importance dataframe\n",
        "  feature_importance = pd.DataFrame({\n",
        "      'Peak': X_train.columns,\n",
        "      'Weight': best_feat.flatten()\n",
        "  }).sort_values(by='Weight', ascending=False)\n",
        "\n",
        "  # save results to dataframe\n",
        "  feature_importance.to_csv((path+\"/\"+col+\"_lm_features.csv\"), index=False)\n",
        "  model_df.to_csv((path+\"/\"+col+\"_lm.csv\"), index=False)"
      ],
      "metadata": {
        "id": "lmSYOg8dbZNF"
      },
      "execution_count": 26,
      "outputs": []
    },
    {
      "cell_type": "code",
      "source": [
        "# run LM and LASSO for each dataset pair\n",
        "def runModels(df, pair, outdir):\n",
        "\n",
        "  # create folder to store results\n",
        "  path = os.path.join(outdir, pair)\n",
        "  os.makedirs(path, exist_ok=True)\n",
        "\n",
        "  # specify column names\n",
        "  var = {\"gcsi_ccle\": [\"gdsc_median\", \"gcsi_ccle_spearman\"],\n",
        "        \"gcsi_gdsc\": [\"ccle_median\", \"gcsi_gdsc_spearman\"],\n",
        "        \"gdsc_ccle\": [\"gcsi_median\", \"gdsc_ccle_spearman\"]}\n",
        "\n",
        "  # get needed columns and remove NA\n",
        "  subset = df[[var[pair][0], var[pair][1], \"gc\", \"n_exon\", \"length\"]]\n",
        "  subset = subset.dropna()\n",
        "\n",
        "  # loop through each variable\n",
        "  for col in [var[pair][0], \"gc\", \"n_exon\", \"length\"]:\n",
        "\n",
        "    # get X and y\n",
        "    X = subset[[col]]\n",
        "    y = subset[[var[pair][1]]]\n",
        "\n",
        "    # run models\n",
        "    print(\"--- running LM for \" + pair + \" for \" + col)\n",
        "    runLM(X, y, path, col)\n"
      ],
      "metadata": {
        "id": "DtKErPM-vI9U"
      },
      "execution_count": 27,
      "outputs": []
    },
    {
      "cell_type": "code",
      "source": [
        "# function to run models for each dataset\n",
        "def runAllPairs(df, outdir):\n",
        "\n",
        "  # load in dataset\n",
        "  df = pd.read_csv(df)\n",
        "\n",
        "  # run models\n",
        "  print(\"\\nStarting gCSI/CCLE:\")\n",
        "  runModels(df, \"gcsi_ccle\", outdir)\n",
        "\n",
        "  print(\"\\nStarting gCSI/GDSC:\")\n",
        "  runModels(df, \"gcsi_gdsc\", outdir)\n",
        "\n",
        "  print(\"\\nStarting GDSC/CCLE:\")\n",
        "  runModels(df, \"gdsc_ccle\", outdir)"
      ],
      "metadata": {
        "id": "gX-mLLmSba6d"
      },
      "execution_count": 28,
      "outputs": []
    },
    {
      "cell_type": "markdown",
      "source": [
        "Run models for each pipeline"
      ],
      "metadata": {
        "id": "ij6jpwHOsfWA"
      }
    },
    {
      "cell_type": "code",
      "source": [
        "runAllPairs(\"gene_stability.csv\", \"Gene_Expression\")"
      ],
      "metadata": {
        "colab": {
          "base_uri": "https://localhost:8080/"
        },
        "id": "0TEEzmvB9uh5",
        "outputId": "bbf23d2f-a00a-4127-8eef-69094a9d7d2a"
      },
      "execution_count": 29,
      "outputs": [
        {
          "output_type": "stream",
          "name": "stdout",
          "text": [
            "\n",
            "Starting gCSI/CCLE:\n",
            "--- running LM for gcsi_ccle for gdsc_median\n",
            "------ Best correlation: -0.025234766238305843 from Fold 5\n",
            "--- running LM for gcsi_ccle for gc\n",
            "------ Best correlation: 0.019588151306191206 from Fold 4\n",
            "--- running LM for gcsi_ccle for n_exon\n",
            "------ Best correlation: 0.10586514825191538 from Fold 2\n",
            "--- running LM for gcsi_ccle for length\n",
            "------ Best correlation: 0.22428912363811845 from Fold 4\n",
            "\n",
            "Starting gCSI/GDSC:\n",
            "--- running LM for gcsi_gdsc for ccle_median\n",
            "------ Best correlation: 0.2066693327283207 from Fold 3\n",
            "--- running LM for gcsi_gdsc for gc\n",
            "------ Best correlation: 0.04452357946311545 from Fold 3\n",
            "--- running LM for gcsi_gdsc for n_exon\n",
            "------ Best correlation: 0.05984006421406075 from Fold 5\n",
            "--- running LM for gcsi_gdsc for length\n",
            "------ Best correlation: 0.18052975262476517 from Fold 4\n",
            "\n",
            "Starting GDSC/CCLE:\n",
            "--- running LM for gdsc_ccle for gcsi_median\n",
            "------ Best correlation: 0.19252796506781436 from Fold 5\n",
            "--- running LM for gdsc_ccle for gc\n",
            "------ Best correlation: 0.07812947494203773 from Fold 1\n",
            "--- running LM for gdsc_ccle for n_exon\n",
            "------ Best correlation: 0.18531106125599958 from Fold 2\n",
            "--- running LM for gdsc_ccle for length\n",
            "------ Best correlation: 0.2515471825478494 from Fold 4\n"
          ]
        }
      ]
    },
    {
      "cell_type": "code",
      "source": [
        "runAllPairs(\"transcript_stability.csv\", \"Isoform_Expression\")"
      ],
      "metadata": {
        "colab": {
          "base_uri": "https://localhost:8080/"
        },
        "id": "oOiSY1J--Par",
        "outputId": "e0da8dc1-ca71-44a8-a836-e92b7cf58bd9"
      },
      "execution_count": 30,
      "outputs": [
        {
          "output_type": "stream",
          "name": "stdout",
          "text": [
            "\n",
            "Starting gCSI/CCLE:\n",
            "--- running LM for gcsi_ccle for gdsc_median\n",
            "------ Best correlation: 0.2763604410344527 from Fold 4\n",
            "--- running LM for gcsi_ccle for gc\n",
            "------ Best correlation: 0.018833293317480616 from Fold 4\n",
            "--- running LM for gcsi_ccle for n_exon\n",
            "------ Best correlation: 0.10900265012818157 from Fold 4\n",
            "--- running LM for gcsi_ccle for length\n",
            "------ Best correlation: 0.29167879433346966 from Fold 4\n",
            "\n",
            "Starting gCSI/GDSC:\n",
            "--- running LM for gcsi_gdsc for ccle_median\n",
            "------ Best correlation: 0.1906499473092695 from Fold 4\n",
            "--- running LM for gcsi_gdsc for gc\n",
            "------ Best correlation: 0.02007242277930821 from Fold 5\n",
            "--- running LM for gcsi_gdsc for n_exon\n",
            "------ Best correlation: 0.07167548319371818 from Fold 4\n",
            "--- running LM for gcsi_gdsc for length\n",
            "------ Best correlation: 0.26587166961816205 from Fold 4\n",
            "\n",
            "Starting GDSC/CCLE:\n",
            "--- running LM for gdsc_ccle for gcsi_median\n",
            "------ Best correlation: 0.37776032456621134 from Fold 1\n",
            "--- running LM for gdsc_ccle for gc\n",
            "------ Best correlation: 0.0463005514582799 from Fold 2\n",
            "--- running LM for gdsc_ccle for n_exon\n",
            "------ Best correlation: 0.09142889931997822 from Fold 4\n",
            "--- running LM for gdsc_ccle for length\n",
            "------ Best correlation: 0.3006574307637828 from Fold 3\n"
          ]
        }
      ]
    },
    {
      "cell_type": "code",
      "source": [
        "\n",
        "runAllPairs(\"ciri_stability.csv\", \"CIRI2\")"
      ],
      "metadata": {
        "colab": {
          "base_uri": "https://localhost:8080/"
        },
        "id": "BZ10VMbRdjzR",
        "outputId": "229c739c-0d7b-43f1-f599-b40ed093c79c"
      },
      "execution_count": 31,
      "outputs": [
        {
          "output_type": "stream",
          "name": "stdout",
          "text": [
            "\n",
            "Starting gCSI/CCLE:\n",
            "--- running LM for gcsi_ccle for gdsc_median\n",
            "------ Best correlation: -0.2869926774029444 from Fold 5\n",
            "--- running LM for gcsi_ccle for gc\n",
            "------ Best correlation: 0.33784810166000834 from Fold 3\n",
            "--- running LM for gcsi_ccle for n_exon\n",
            "------ Best correlation: -0.09862992959790293 from Fold 5\n",
            "--- running LM for gcsi_ccle for length\n",
            "------ Best correlation: 0.1605967684221346 from Fold 4\n",
            "\n",
            "Starting gCSI/GDSC:\n",
            "--- running LM for gcsi_gdsc for ccle_median\n",
            "------ Best correlation: 0.6315584534755296 from Fold 3\n",
            "--- running LM for gcsi_gdsc for gc\n",
            "------ Best correlation: 0.5757575757575757 from Fold 4\n",
            "--- running LM for gcsi_gdsc for n_exon\n",
            "------ Best correlation: -0.445130226322946 from Fold 5\n",
            "--- running LM for gcsi_gdsc for length\n",
            "------ Best correlation: -0.3939393939393939 from Fold 5\n",
            "\n",
            "Starting GDSC/CCLE:\n",
            "--- running LM for gdsc_ccle for gcsi_median\n",
            "------ Best correlation: 0.25241260113576186 from Fold 5\n",
            "--- running LM for gdsc_ccle for gc\n",
            "------ Best correlation: 0.08333333333333334 from Fold 5\n",
            "--- running LM for gdsc_ccle for n_exon\n",
            "------ Best correlation: -0.1276884796138123 from Fold 5\n",
            "--- running LM for gdsc_ccle for length\n",
            "------ Best correlation: 0.08333333333333334 from Fold 5\n"
          ]
        }
      ]
    },
    {
      "cell_type": "code",
      "source": [
        "runAllPairs(\"circ_stability.csv\", \"CIRCexplorer2\")"
      ],
      "metadata": {
        "colab": {
          "base_uri": "https://localhost:8080/"
        },
        "id": "fkof1vWVw-lK",
        "outputId": "c9620763-a61b-4e3a-ed56-c714a24b9796"
      },
      "execution_count": 32,
      "outputs": [
        {
          "output_type": "stream",
          "name": "stdout",
          "text": [
            "\n",
            "Starting gCSI/CCLE:\n",
            "--- running LM for gcsi_ccle for gdsc_median\n",
            "------ Best correlation: 0.4347438741806116 from Fold 5\n",
            "--- running LM for gcsi_ccle for gc\n",
            "------ Best correlation: 0.3115455682086025 from Fold 5\n",
            "--- running LM for gcsi_ccle for n_exon\n",
            "------ Best correlation: -0.22659400634440224 from Fold 5\n",
            "--- running LM for gcsi_ccle for length\n",
            "------ Best correlation: 0.37645082467929136 from Fold 2\n",
            "\n",
            "Starting gCSI/GDSC:\n",
            "--- running LM for gcsi_gdsc for ccle_median\n",
            "------ Best correlation: 0.29259552473639505 from Fold 3\n",
            "--- running LM for gcsi_gdsc for gc\n",
            "------ Best correlation: 0.5390704911994877 from Fold 3\n",
            "--- running LM for gcsi_gdsc for n_exon\n",
            "------ Best correlation: 0.43213801416104974 from Fold 5\n",
            "--- running LM for gcsi_gdsc for length\n",
            "------ Best correlation: 0.526211929024087 from Fold 3\n",
            "\n",
            "Starting GDSC/CCLE:\n",
            "--- running LM for gdsc_ccle for gcsi_median\n",
            "------ Best correlation: 0.09999999999999999 from Fold 4\n",
            "--- running LM for gdsc_ccle for gc\n",
            "------ Best correlation: 0.0411764705882353 from Fold 5\n",
            "--- running LM for gdsc_ccle for n_exon\n",
            "------ Best correlation: -0.433034737601345 from Fold 5\n",
            "--- running LM for gdsc_ccle for length\n",
            "------ Best correlation: 0.2676470588235294 from Fold 5\n"
          ]
        }
      ]
    },
    {
      "cell_type": "code",
      "source": [
        "runAllPairs(\"cfnd_stability.csv\", \"circRNA_finder\")"
      ],
      "metadata": {
        "id": "bRa0VJlBw_hx",
        "colab": {
          "base_uri": "https://localhost:8080/"
        },
        "outputId": "4330cf48-f82b-4756-8c3b-277d1550c5bb"
      },
      "execution_count": 33,
      "outputs": [
        {
          "output_type": "stream",
          "name": "stdout",
          "text": [
            "\n",
            "Starting gCSI/CCLE:\n",
            "--- running LM for gcsi_ccle for gdsc_median\n",
            "------ Best correlation: 0.21339762225080422 from Fold 4\n",
            "--- running LM for gcsi_ccle for gc\n",
            "------ Best correlation: 0.20280428819675578 from Fold 4\n",
            "--- running LM for gcsi_ccle for n_exon\n",
            "------ Best correlation: 0.27442069090199933 from Fold 5\n",
            "--- running LM for gcsi_ccle for length\n",
            "------ Best correlation: 0.24035019471397015 from Fold 5\n",
            "\n",
            "Starting gCSI/GDSC:\n",
            "--- running LM for gcsi_gdsc for ccle_median\n",
            "------ Best correlation: 0.31567366592283747 from Fold 1\n",
            "--- running LM for gcsi_gdsc for gc\n",
            "------ Best correlation: -0.10288690400740812 from Fold 5\n",
            "--- running LM for gcsi_gdsc for n_exon\n",
            "------ Best correlation: 0.4841060629367038 from Fold 5\n",
            "--- running LM for gcsi_gdsc for length\n",
            "------ Best correlation: 0.4110541536602924 from Fold 4\n",
            "\n",
            "Starting GDSC/CCLE:\n",
            "--- running LM for gdsc_ccle for gcsi_median\n",
            "------ Best correlation: 0.4346977721012687 from Fold 3\n",
            "--- running LM for gdsc_ccle for gc\n",
            "------ Best correlation: 0.28803587569416167 from Fold 4\n",
            "--- running LM for gdsc_ccle for n_exon\n",
            "------ Best correlation: 0.1786477378185356 from Fold 3\n",
            "--- running LM for gdsc_ccle for length\n",
            "------ Best correlation: 0.45565367623615144 from Fold 3\n"
          ]
        }
      ]
    },
    {
      "cell_type": "code",
      "source": [
        "runAllPairs(\"fcrc_stability.csv\", \"find_circ\")"
      ],
      "metadata": {
        "id": "Uxbsh4l6xAFH",
        "colab": {
          "base_uri": "https://localhost:8080/"
        },
        "outputId": "3a30607d-0283-4501-b289-1933ec940999"
      },
      "execution_count": 34,
      "outputs": [
        {
          "output_type": "stream",
          "name": "stdout",
          "text": [
            "\n",
            "Starting gCSI/CCLE:\n",
            "--- running LM for gcsi_ccle for gdsc_median\n",
            "------ Best correlation: 0.3252025715867288 from Fold 1\n",
            "--- running LM for gcsi_ccle for gc\n",
            "------ Best correlation: -0.08651641005013049 from Fold 5\n",
            "--- running LM for gcsi_ccle for n_exon\n",
            "------ Best correlation: 0.1278121893503362 from Fold 3\n",
            "--- running LM for gcsi_ccle for length\n",
            "------ Best correlation: 0.2203166509877976 from Fold 1\n",
            "\n",
            "Starting gCSI/GDSC:\n",
            "--- running LM for gcsi_gdsc for ccle_median\n",
            "------ Best correlation: 0.1884719856594349 from Fold 2\n",
            "--- running LM for gcsi_gdsc for gc\n",
            "------ Best correlation: 0.188110068817058 from Fold 1\n",
            "--- running LM for gcsi_gdsc for n_exon\n",
            "------ Best correlation: 0.18197680814733247 from Fold 4\n",
            "--- running LM for gcsi_gdsc for length\n",
            "------ Best correlation: 0.30357999614732184 from Fold 3\n",
            "\n",
            "Starting GDSC/CCLE:\n",
            "--- running LM for gdsc_ccle for gcsi_median\n",
            "------ Best correlation: 0.3998509335097213 from Fold 1\n",
            "--- running LM for gdsc_ccle for gc\n",
            "------ Best correlation: 0.21083124964685232 from Fold 1\n",
            "--- running LM for gdsc_ccle for n_exon\n",
            "------ Best correlation: 0.14629213796201673 from Fold 4\n",
            "--- running LM for gdsc_ccle for length\n",
            "------ Best correlation: 0.3879002538134608 from Fold 4\n"
          ]
        }
      ]
    }
  ]
}