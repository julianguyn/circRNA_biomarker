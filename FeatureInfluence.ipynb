{
  "nbformat": 4,
  "nbformat_minor": 0,
  "metadata": {
    "colab": {
      "provenance": []
    },
    "kernelspec": {
      "name": "python3",
      "display_name": "Python 3"
    },
    "language_info": {
      "name": "python"
    }
  },
  "cells": [
    {
      "cell_type": "code",
      "execution_count": 54,
      "metadata": {
        "id": "YCjAUn-Ogwtv"
      },
      "outputs": [],
      "source": [
        "# load libraries\n",
        "import pandas as pd\n",
        "import numpy as np\n",
        "from sklearn import linear_model\n",
        "from sklearn.model_selection import KFold, train_test_split, GridSearchCV\n",
        "from scipy import stats\n",
        "\n",
        "import warnings\n",
        "import os\n",
        "\n",
        "# suppress all warnings\n",
        "warnings.filterwarnings('ignore')\n",
        "\n",
        "# set seed\n",
        "np.random.seed(42)"
      ]
    },
    {
      "cell_type": "markdown",
      "source": [
        "Define functions for running models"
      ],
      "metadata": {
        "id": "Xr2Vtbn6sbPB"
      }
    },
    {
      "cell_type": "code",
      "source": [
        "# function to run linear model\n",
        "def runLM(X, y, path):\n",
        "\n",
        "  # create dataframe to store results\n",
        "  model_df = pd.DataFrame(columns=['Model', 'Fold', 'Spearman', 'Pearson'])\n",
        "\n",
        "  # initialize the outer folds (5 folds, 80% train, 20% test)\n",
        "  outer_cv = KFold(n_splits=5, shuffle=True, random_state=42)\n",
        "\n",
        "  # initialize variables to store best model correlation and features\n",
        "  best_corr = 0\n",
        "  best_fold = 0\n",
        "  best_feat = None\n",
        "\n",
        "  # loop through each of the outer five folds\n",
        "  fold = 1\n",
        "  for train_index, test_index in outer_cv.split(X):\n",
        "\n",
        "    # split train and test\n",
        "    X_train, X_test = X.iloc[train_index], X.iloc[test_index]\n",
        "    y_train, y_test = y.iloc[train_index], y.iloc[test_index]\n",
        "\n",
        "    # initialize linear regression model\n",
        "    reg = linear_model.LinearRegression()\n",
        "\n",
        "    # fit model\n",
        "    reg.fit(X_train, y_train)\n",
        "\n",
        "    # get predicted values for test data\n",
        "    y_pred = reg.predict(X_test)\n",
        "\n",
        "    # compute correlations\n",
        "    s_cor = stats.spearmanr(y_pred, y_test)\n",
        "    p_cor = stats.pearsonr(y_pred, y_test)\n",
        "\n",
        "    # save model correlation and features (if better than previous)\n",
        "    if s_cor[0] > best_corr:\n",
        "            best_corr = s_cor[0]\n",
        "            best_fold = fold\n",
        "            best_feat = reg.coef_\n",
        "\n",
        "    # save results to dataframe\n",
        "    new_row = pd.DataFrame({'Model': ['Linear'], 'Fold': [fold], 'Spearman': [s_cor[0]], 'Pearson': [p_cor[0]]})\n",
        "    model_df = pd.concat([model_df, new_row],ignore_index = True)\n",
        "\n",
        "    # print results from fold\n",
        "    #print(\"Fold\", fold, \"Spearman correlation:\", s_cor[0])\n",
        "\n",
        "    fold += 1\n",
        "\n",
        "  # print best results\n",
        "  print(\"------ Best correlation:\", best_corr, \"from Fold\", best_fold)\n",
        "\n",
        "  # create feature importance dataframe\n",
        "  feature_importance = pd.DataFrame({\n",
        "      'Peak': X_train.columns,\n",
        "      'Weight': best_feat.flatten()\n",
        "  }).sort_values(by='Weight', ascending=False)\n",
        "\n",
        "  # save results to dataframe\n",
        "  feature_importance.to_csv((path+\"/lm_features.csv\"), index=False)\n",
        "  model_df.to_csv((path+\"/lm.csv\"), index=False)"
      ],
      "metadata": {
        "id": "lmSYOg8dbZNF"
      },
      "execution_count": 55,
      "outputs": []
    },
    {
      "cell_type": "code",
      "source": [
        "# function to run LASSO\n",
        "def runLASSO(X, y, path):\n",
        "\n",
        "  # create dataframe to store results\n",
        "  model_df = pd.DataFrame(columns=['Model', 'Fold', 'Spearman', 'Pearson', 'alpha', 'max_iter'])\n",
        "\n",
        "  # initialize the outer folds (5 folds, 80% train, 20% test)\n",
        "  outer_cv = KFold(n_splits=5, shuffle=True, random_state=42)\n",
        "\n",
        "  # initialize variables to store best model correlation and features\n",
        "  best_corr = 0\n",
        "  best_fold = 0\n",
        "  best_feat = None\n",
        "\n",
        "  # loop through each of the outer five folds\n",
        "  fold = 1\n",
        "  for train_index, test_index in outer_cv.split(X):\n",
        "\n",
        "    # split train and test\n",
        "    X_train, X_test = X.iloc[train_index], X.iloc[test_index]\n",
        "    y_train, y_test = y.iloc[train_index], y.iloc[test_index]\n",
        "\n",
        "    # initialize LASSO model\n",
        "    lasso = linear_model.Lasso()\n",
        "\n",
        "    # specify parameters for optimization\n",
        "    parameters = {\n",
        "        'alpha': [0.001, 0.01, 0.1, 1, 10, 100],\n",
        "        'max_iter': [500, 1000, 5000, 7500]\n",
        "      }\n",
        "\n",
        "    # identify optimal parameters\n",
        "    reg = GridSearchCV(\n",
        "        estimator = lasso,\n",
        "        param_grid = parameters,\n",
        "        #verbose=2\n",
        "      )\n",
        "\n",
        "    # fit model\n",
        "    reg.fit(X_train, y_train)\n",
        "\n",
        "    # get best model parameters\n",
        "    reg_best = reg.best_estimator_\n",
        "\n",
        "    alpha = reg.best_params_['alpha']\n",
        "    max_iter = reg.best_params_['max_iter']\n",
        "\n",
        "    # get predicted values for test data\n",
        "    y_pred = reg_best.predict(X_test)\n",
        "\n",
        "    # compute correlations\n",
        "    s_cor = stats.spearmanr(y_pred, y_test)\n",
        "    p_cor = stats.pearsonr(y_pred, y_test.values.ravel())\n",
        "\n",
        "    # save model correlation and features (if better than previous)\n",
        "    if s_cor[0] > best_corr:\n",
        "            best_corr = s_cor[0]\n",
        "            best_fold = fold\n",
        "            best_feat = reg_best.coef_\n",
        "\n",
        "    # save results to dataframe\n",
        "    new_row = pd.DataFrame({'Model': ['LASSO'], 'Fold': [fold], 'Spearman': [s_cor[0]], 'Pearson': [p_cor[0]],\n",
        "                            'alpha': [alpha], 'max_iter': [max_iter]})\n",
        "    model_df = pd.concat([model_df, new_row],ignore_index = True)\n",
        "\n",
        "    # print results from fold\n",
        "    #print(\"Fold\", fold, \"Spearman correlation:\", s_cor[0])\n",
        "\n",
        "    fold += 1\n",
        "\n",
        "  # print results\n",
        "  print(\"------ Best correlation:\", best_corr, \"from Fold\", best_fold)\n",
        "\n",
        "  # create feature importance dataframe\n",
        "  feature_importance = pd.DataFrame({\n",
        "      'Peak': X_train.columns,\n",
        "      'Weight': best_feat\n",
        "  }).sort_values(by='Weight', ascending=False)\n",
        "\n",
        "  # save feature importance dataframe\n",
        "  feature_importance.to_csv((path+\"/lasso_features.csv\"), index=False)\n",
        "  model_df.to_csv((path+\"/lasso.csv\"), index=False)"
      ],
      "metadata": {
        "id": "qWoPmbvpbMY4"
      },
      "execution_count": 56,
      "outputs": []
    },
    {
      "cell_type": "code",
      "source": [
        "# run LM and LASSO for each dataset pair\n",
        "def runModels(df, pair, outdir):\n",
        "\n",
        "  # specify column names\n",
        "  var = {\"gcsi_ccle\": [\"gdsc_median\", \"gcsi_ccle_spearman\"],\n",
        "        \"gcsi_gdsc\": [\"ccle_median\", \"gcsi_gdsc_spearman\"],\n",
        "        \"gdsc_ccle\": [\"gcsi_median\", \"gdsc_ccle_spearman\"]}\n",
        "\n",
        "  # get needed columns and remove NA\n",
        "  subset = df[[var[pair][0], var[pair][1], \"gc\", \"n_exon\", \"length\"]]\n",
        "  subset = subset.dropna()\n",
        "\n",
        "  # get X and y\n",
        "  X = subset[[var[pair][0], \"gc\", \"n_exon\", \"length\"]]\n",
        "  y = subset[[var[pair][1]]]\n",
        "\n",
        "  # create folder to store results\n",
        "  path = os.path.join(outdir, pair)\n",
        "  os.makedirs(path, exist_ok=True)\n",
        "\n",
        "  # run models\n",
        "  print(\"--- running LM for \" + pair)\n",
        "  runLM(X, y, path)\n",
        "\n",
        "  print(\"--- running LASSO for \" + pair)\n",
        "  runLASSO(X, y, path)\n"
      ],
      "metadata": {
        "id": "DtKErPM-vI9U"
      },
      "execution_count": 57,
      "outputs": []
    },
    {
      "cell_type": "code",
      "source": [
        "# function to run models for each dataset\n",
        "def runAllPairs(df, outdir):\n",
        "\n",
        "  # load in dataset\n",
        "  df = pd.read_csv(df)\n",
        "\n",
        "  # run models\n",
        "  print(\"\\nStarting gCSI/CCLE:\")\n",
        "  runModels(df, \"gcsi_ccle\", outdir)\n",
        "\n",
        "  print(\"\\nStarting gCSI/GDSC:\")\n",
        "  runModels(df, \"gcsi_gdsc\", outdir)\n",
        "\n",
        "  print(\"\\nStarting GDSC/CCLE:\")\n",
        "  runModels(df, \"gdsc_ccle\", outdir)"
      ],
      "metadata": {
        "id": "gX-mLLmSba6d"
      },
      "execution_count": 58,
      "outputs": []
    },
    {
      "cell_type": "markdown",
      "source": [
        "Run models for each pipeline"
      ],
      "metadata": {
        "id": "ij6jpwHOsfWA"
      }
    },
    {
      "cell_type": "code",
      "source": [
        "runAllPairs(\"gene_stability.csv\", \"Gene_Expression\")"
      ],
      "metadata": {
        "colab": {
          "base_uri": "https://localhost:8080/"
        },
        "id": "0TEEzmvB9uh5",
        "outputId": "208f4600-7110-429d-efe0-ae3da65d4246"
      },
      "execution_count": 73,
      "outputs": [
        {
          "output_type": "stream",
          "name": "stdout",
          "text": [
            "\n",
            "Starting gCSI/CCLE:\n",
            "--- running LM for gcsi_ccle\n",
            "------ Best correlation: 0.1555690574797088 from Fold 5\n",
            "--- running LASSO for gcsi_ccle\n",
            "------ Best correlation: 0.22428912363811845 from Fold 4\n",
            "\n",
            "Starting gCSI/GDSC:\n",
            "--- running LM for gcsi_gdsc\n",
            "------ Best correlation: 0.26174780670624737 from Fold 3\n",
            "--- running LASSO for gcsi_gdsc\n",
            "------ Best correlation: 0.18052975262476517 from Fold 4\n",
            "\n",
            "Starting GDSC/CCLE:\n",
            "--- running LM for gdsc_ccle\n",
            "------ Best correlation: 0.23411142633235357 from Fold 5\n",
            "--- running LASSO for gdsc_ccle\n",
            "------ Best correlation: 0.23436980252882988 from Fold 5\n"
          ]
        }
      ]
    },
    {
      "cell_type": "code",
      "source": [
        "runAllPairs(\"transcript_stability.csv\", \"Isoform_Expression\")"
      ],
      "metadata": {
        "colab": {
          "base_uri": "https://localhost:8080/"
        },
        "id": "oOiSY1J--Par",
        "outputId": "9193da11-4219-48ac-e501-b52657d8c664"
      },
      "execution_count": 74,
      "outputs": [
        {
          "output_type": "stream",
          "name": "stdout",
          "text": [
            "\n",
            "Starting gCSI/CCLE:\n",
            "--- running LM for gcsi_ccle\n",
            "------ Best correlation: 0.32932286804954286 from Fold 4\n",
            "--- running LASSO for gcsi_ccle\n",
            "------ Best correlation: 0.3295279702825283 from Fold 4\n",
            "\n",
            "Starting gCSI/GDSC:\n",
            "--- running LM for gcsi_gdsc\n",
            "------ Best correlation: 0.27667257024767433 from Fold 4\n",
            "--- running LASSO for gcsi_gdsc\n",
            "------ Best correlation: 0.27702433995214876 from Fold 4\n",
            "\n",
            "Starting GDSC/CCLE:\n",
            "--- running LM for gdsc_ccle\n",
            "------ Best correlation: 0.41338472573643154 from Fold 4\n",
            "--- running LASSO for gdsc_ccle\n",
            "------ Best correlation: 0.41348680572774044 from Fold 4\n"
          ]
        }
      ]
    },
    {
      "cell_type": "code",
      "source": [
        "\n",
        "runAllPairs(\"ciri_stability.csv\", \"CIRI2\")"
      ],
      "metadata": {
        "colab": {
          "base_uri": "https://localhost:8080/"
        },
        "id": "BZ10VMbRdjzR",
        "outputId": "69bf2fa8-a9db-4750-ce28-b1807495208e"
      },
      "execution_count": 59,
      "outputs": [
        {
          "output_type": "stream",
          "name": "stdout",
          "text": [
            "\n",
            "Starting gCSI/CCLE:\n",
            "--- running LM for gcsi_ccle\n",
            "------ Best correlation: 0.12264864269617226 from Fold 3\n",
            "--- running LASSO for gcsi_ccle\n",
            "------ Best correlation: 0.1605967684221346 from Fold 4\n",
            "\n",
            "Starting gCSI/GDSC:\n",
            "--- running LM for gcsi_gdsc\n",
            "------ Best correlation: 0.38181818181818183 from Fold 4\n",
            "--- running LASSO for gcsi_gdsc\n",
            "------ Best correlation: 0.5757575757575757 from Fold 4\n",
            "\n",
            "Starting GDSC/CCLE:\n",
            "--- running LM for gdsc_ccle\n",
            "------ Best correlation: 0.21757512627648798 from Fold 3\n",
            "--- running LASSO for gdsc_ccle\n",
            "------ Best correlation: 0.22424242424242422 from Fold 2\n"
          ]
        }
      ]
    },
    {
      "cell_type": "code",
      "source": [
        "runAllPairs(\"circ_stability.csv\", \"CIRCexplorer2\")"
      ],
      "metadata": {
        "colab": {
          "base_uri": "https://localhost:8080/"
        },
        "id": "fkof1vWVw-lK",
        "outputId": "e737245c-dd7a-4854-f2fe-88c11c1a1175"
      },
      "execution_count": 69,
      "outputs": [
        {
          "output_type": "stream",
          "name": "stdout",
          "text": [
            "\n",
            "Starting gCSI/CCLE:\n",
            "--- running LM for gcsi_ccle\n",
            "------ Best correlation: 0.180458023679647 from Fold 2\n",
            "--- running LASSO for gcsi_ccle\n",
            "------ Best correlation: 0.37645082467929136 from Fold 2\n",
            "\n",
            "Starting gCSI/GDSC:\n",
            "--- running LM for gcsi_gdsc\n",
            "------ Best correlation: 0.30882995527018386 from Fold 1\n",
            "--- running LASSO for gcsi_gdsc\n",
            "------ Best correlation: 0.305905618431955 from Fold 5\n",
            "\n",
            "Starting GDSC/CCLE:\n",
            "--- running LM for gdsc_ccle\n",
            "------ Best correlation: 0.02941176470588235 from Fold 5\n",
            "--- running LASSO for gdsc_ccle\n",
            "------ Best correlation: 0 from Fold 0\n"
          ]
        }
      ]
    },
    {
      "cell_type": "code",
      "source": [
        "runAllPairs(\"cfnd_stability.csv\", \"circRNA_finder\")"
      ],
      "metadata": {
        "id": "bRa0VJlBw_hx",
        "colab": {
          "base_uri": "https://localhost:8080/"
        },
        "outputId": "ac1537cd-9685-490e-b990-da8a17271cee"
      },
      "execution_count": 70,
      "outputs": [
        {
          "output_type": "stream",
          "name": "stdout",
          "text": [
            "\n",
            "Starting gCSI/CCLE:\n",
            "--- running LM for gcsi_ccle\n",
            "------ Best correlation: 0.29073217434513365 from Fold 4\n",
            "--- running LASSO for gcsi_ccle\n",
            "------ Best correlation: 0.22212099711589933 from Fold 5\n",
            "\n",
            "Starting gCSI/GDSC:\n",
            "--- running LM for gcsi_gdsc\n",
            "------ Best correlation: 0.4159887773536933 from Fold 5\n",
            "--- running LASSO for gcsi_gdsc\n",
            "------ Best correlation: 0.3635352096747466 from Fold 3\n",
            "\n",
            "Starting GDSC/CCLE:\n",
            "--- running LM for gdsc_ccle\n",
            "------ Best correlation: 0.38909909560510225 from Fold 3\n",
            "--- running LASSO for gdsc_ccle\n",
            "------ Best correlation: 0.45565367623615144 from Fold 3\n"
          ]
        }
      ]
    },
    {
      "cell_type": "code",
      "source": [
        "runAllPairs(\"fcrc_stability.csv\", \"find_circ\")"
      ],
      "metadata": {
        "id": "Uxbsh4l6xAFH",
        "colab": {
          "base_uri": "https://localhost:8080/"
        },
        "outputId": "b609f8ad-24a9-4c77-b42d-48b9d26a9ece"
      },
      "execution_count": 71,
      "outputs": [
        {
          "output_type": "stream",
          "name": "stdout",
          "text": [
            "\n",
            "Starting gCSI/CCLE:\n",
            "--- running LM for gcsi_ccle\n",
            "------ Best correlation: 0.2401407472854148 from Fold 4\n",
            "--- running LASSO for gcsi_ccle\n",
            "------ Best correlation: 0.2203166509877976 from Fold 1\n",
            "\n",
            "Starting gCSI/GDSC:\n",
            "--- running LM for gcsi_gdsc\n",
            "------ Best correlation: 0.2086409288980511 from Fold 1\n",
            "--- running LASSO for gcsi_gdsc\n",
            "------ Best correlation: 0.30357999614732184 from Fold 3\n",
            "\n",
            "Starting GDSC/CCLE:\n",
            "--- running LM for gdsc_ccle\n",
            "------ Best correlation: 0.41048868290137236 from Fold 4\n",
            "--- running LASSO for gdsc_ccle\n",
            "------ Best correlation: 0.40548737334101925 from Fold 4\n"
          ]
        }
      ]
    }
  ]
}